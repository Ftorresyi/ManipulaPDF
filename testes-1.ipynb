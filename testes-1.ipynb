{
 "cells": [
  {
   "cell_type": "code",
   "execution_count": 1,
   "metadata": {},
   "outputs": [
    {
     "name": "stdout",
     "output_type": "stream",
     "text": [
      "{0: [1, 2]}\n"
     ]
    }
   ],
   "source": [
    "pginit = int(input('Escreva a pagina inicial da divisão. '))\n",
    "pgfim = int(input('Escreva a pagina final da divisão. '))\n",
    "\n",
    "file2pages = {\n",
    "    0: [pginit, pgfim]\n",
    "    \n",
    "}\n",
    "\n",
    "print(file2pages)\n",
    "\n"
   ]
  },
  {
   "cell_type": "code",
   "execution_count": 1,
   "metadata": {},
   "outputs": [
    {
     "ename": "NameError",
     "evalue": "name 'pginit' is not defined",
     "output_type": "error",
     "traceback": [
      "\u001b[1;31m---------------------------------------------------------------------------\u001b[0m",
      "\u001b[1;31mNameError\u001b[0m                                 Traceback (most recent call last)",
      "\u001b[1;32md:\\PROJETOS\\ManipulaPDF\\testes-1.ipynb Cell 2\u001b[0m in \u001b[0;36m<cell line: 15>\u001b[1;34m()\u001b[0m\n\u001b[0;32m      <a href='vscode-notebook-cell:/d%3A/PROJETOS/ManipulaPDF/testes-1.ipynb#W1sZmlsZQ%3D%3D?line=0'>1</a>\u001b[0m \u001b[39m''' while True:\u001b[39;00m\n\u001b[0;32m      <a href='vscode-notebook-cell:/d%3A/PROJETOS/ManipulaPDF/testes-1.ipynb#W1sZmlsZQ%3D%3D?line=1'>2</a>\u001b[0m \u001b[39m    pginit = int(input('Escreva a pagina inicial da divisão. '))\u001b[39;00m\n\u001b[0;32m      <a href='vscode-notebook-cell:/d%3A/PROJETOS/ManipulaPDF/testes-1.ipynb#W1sZmlsZQ%3D%3D?line=2'>3</a>\u001b[0m \u001b[39m    pgfim = int(input('Escreva a pagina final da divisão. '))\u001b[39;00m\n\u001b[1;32m   (...)\u001b[0m\n\u001b[0;32m     <a href='vscode-notebook-cell:/d%3A/PROJETOS/ManipulaPDF/testes-1.ipynb#W1sZmlsZQ%3D%3D?line=10'>11</a>\u001b[0m \u001b[39m    else: pginit or pgfim == 0\u001b[39;00m\n\u001b[0;32m     <a href='vscode-notebook-cell:/d%3A/PROJETOS/ManipulaPDF/testes-1.ipynb#W1sZmlsZQ%3D%3D?line=11'>12</a>\u001b[0m \u001b[39m    break '''\u001b[39;00m\n\u001b[0;32m     <a href='vscode-notebook-cell:/d%3A/PROJETOS/ManipulaPDF/testes-1.ipynb#W1sZmlsZQ%3D%3D?line=14'>15</a>\u001b[0m \u001b[39mfor\u001b[39;00m i \u001b[39min\u001b[39;00m \u001b[39mrange\u001b[39m(\u001b[39m5\u001b[39m):\n\u001b[1;32m---> <a href='vscode-notebook-cell:/d%3A/PROJETOS/ManipulaPDF/testes-1.ipynb#W1sZmlsZQ%3D%3D?line=15'>16</a>\u001b[0m     \u001b[39mwhile\u001b[39;00m pginit \u001b[39m!=\u001b[39m \u001b[39m0\u001b[39m:\n\u001b[0;32m     <a href='vscode-notebook-cell:/d%3A/PROJETOS/ManipulaPDF/testes-1.ipynb#W1sZmlsZQ%3D%3D?line=16'>17</a>\u001b[0m         pginit \u001b[39m=\u001b[39m \u001b[39mint\u001b[39m(\u001b[39minput\u001b[39m(\u001b[39m'\u001b[39m\u001b[39mEscreva a pagina inicial da divisão. \u001b[39m\u001b[39m'\u001b[39m))\n\u001b[0;32m     <a href='vscode-notebook-cell:/d%3A/PROJETOS/ManipulaPDF/testes-1.ipynb#W1sZmlsZQ%3D%3D?line=17'>18</a>\u001b[0m         pgfim \u001b[39m=\u001b[39m \u001b[39mint\u001b[39m(\u001b[39minput\u001b[39m(\u001b[39m'\u001b[39m\u001b[39mEscreva a pagina final da divisão. \u001b[39m\u001b[39m'\u001b[39m))\n",
      "\u001b[1;31mNameError\u001b[0m: name 'pginit' is not defined"
     ]
    }
   ],
   "source": [
    "\n",
    "''' while True:\n",
    "    pginit = int(input('Escreva a pagina inicial da divisão. '))\n",
    "    pgfim = int(input('Escreva a pagina final da divisão. '))\n",
    "    \n",
    "    if pginit != 0:\n",
    "        for i in range(5):\n",
    "            file2pages[i] = {\n",
    "                i: [pginit, pgfim] \n",
    "            }\n",
    "        print(file2pages, type(file2pages))\n",
    "    else: pginit or pgfim == 0\n",
    "    break '''\n",
    "  \n",
    "\n",
    "for i in range(5):\n",
    "    while pginit != 0:\n",
    "        pginit = int(input('Escreva a pagina inicial da divisão. '))\n",
    "        pgfim = int(input('Escreva a pagina final da divisão. '))\n",
    "        file2pages[i] = {\n",
    "                i: [pginit, pgfim] \n",
    "            }\n",
    "    else: break\n",
    "print(file2pages, type(file2pages))\n",
    "        "
   ]
  },
  {
   "cell_type": "code",
   "execution_count": 16,
   "metadata": {},
   "outputs": [
    {
     "name": "stdout",
     "output_type": "stream",
     "text": [
      "{0: {0: [4, 3]}, 1: {1: [0, 0]}} <class 'dict'>\n",
      "{0: {0: [4, 3]}, 1: {1: [5, 6]}} <class 'dict'>\n",
      "{0: {0: [4, 3]}, 1: {1: [5, 6]}, 2: {2: [7, 8]}} <class 'dict'>\n",
      "{0: {0: [4, 3]}, 1: {1: [5, 6]}, 2: {2: [7, 8]}, 3: {3: [9, 0]}} <class 'dict'>\n"
     ]
    }
   ],
   "source": [
    "pginit = 10000\n",
    "for i in range(5):\n",
    "    while pginit != 0:\n",
    "        pginit = int(input('Escreva a pagina inicial da divisão. '))\n",
    "        pgfim = int(input('Escreva a pagina final da divisão. '))\n",
    "        file2pages[i] = {\n",
    "                i: [pginit, pgfim] \n",
    "            }\n",
    "        i=i+1\n",
    "        print(file2pages, type(file2pages))\n",
    "    else: break\n",
    "\n",
    "    "
   ]
  }
 ],
 "metadata": {
  "kernelspec": {
   "display_name": "Python 3.10.4 64-bit",
   "language": "python",
   "name": "python3"
  },
  "language_info": {
   "codemirror_mode": {
    "name": "ipython",
    "version": 3
   },
   "file_extension": ".py",
   "mimetype": "text/x-python",
   "name": "python",
   "nbconvert_exporter": "python",
   "pygments_lexer": "ipython3",
   "version": "3.10.4"
  },
  "orig_nbformat": 4,
  "vscode": {
   "interpreter": {
    "hash": "26de051ba29f2982a8de78e945f0abaf191376122a1563185a90213a26c5da77"
   }
  }
 },
 "nbformat": 4,
 "nbformat_minor": 2
}
