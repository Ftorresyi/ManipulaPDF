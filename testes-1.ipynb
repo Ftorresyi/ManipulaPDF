{
 "cells": [
  {
   "cell_type": "code",
   "execution_count": 14,
   "metadata": {},
   "outputs": [
    {
     "ename": "ValueError",
     "evalue": "invalid literal for int() with base 10: ''",
     "output_type": "error",
     "traceback": [
      "\u001b[1;31m---------------------------------------------------------------------------\u001b[0m",
      "\u001b[1;31mValueError\u001b[0m                                Traceback (most recent call last)",
      "\u001b[1;32md:\\PROJETOS\\ManipulaPDF\\ManipulaPDF\\testes-1.ipynb Célula: 1\u001b[0m in \u001b[0;36m<cell line: 1>\u001b[1;34m()\u001b[0m\n\u001b[1;32m----> <a href='vscode-notebook-cell:/d%3A/PROJETOS/ManipulaPDF/ManipulaPDF/testes-1.ipynb#W0sZmlsZQ%3D%3D?line=0'>1</a>\u001b[0m pginit \u001b[39m=\u001b[39m \u001b[39mint\u001b[39;49m(\u001b[39minput\u001b[39;49m(\u001b[39m'\u001b[39;49m\u001b[39mEscreva a pagina inicial da divisão. \u001b[39;49m\u001b[39m'\u001b[39;49m))\n\u001b[0;32m      <a href='vscode-notebook-cell:/d%3A/PROJETOS/ManipulaPDF/ManipulaPDF/testes-1.ipynb#W0sZmlsZQ%3D%3D?line=1'>2</a>\u001b[0m pgfim \u001b[39m=\u001b[39m \u001b[39mint\u001b[39m(\u001b[39minput\u001b[39m(\u001b[39m'\u001b[39m\u001b[39mEscreva a pagina final da divisão. \u001b[39m\u001b[39m'\u001b[39m))\n\u001b[0;32m      <a href='vscode-notebook-cell:/d%3A/PROJETOS/ManipulaPDF/ManipulaPDF/testes-1.ipynb#W0sZmlsZQ%3D%3D?line=3'>4</a>\u001b[0m file2pages \u001b[39m=\u001b[39m {\n\u001b[0;32m      <a href='vscode-notebook-cell:/d%3A/PROJETOS/ManipulaPDF/ManipulaPDF/testes-1.ipynb#W0sZmlsZQ%3D%3D?line=4'>5</a>\u001b[0m     \u001b[39m0\u001b[39m: [pginit, pgfim]\n\u001b[0;32m      <a href='vscode-notebook-cell:/d%3A/PROJETOS/ManipulaPDF/ManipulaPDF/testes-1.ipynb#W0sZmlsZQ%3D%3D?line=5'>6</a>\u001b[0m     \n\u001b[0;32m      <a href='vscode-notebook-cell:/d%3A/PROJETOS/ManipulaPDF/ManipulaPDF/testes-1.ipynb#W0sZmlsZQ%3D%3D?line=6'>7</a>\u001b[0m }\n",
      "\u001b[1;31mValueError\u001b[0m: invalid literal for int() with base 10: ''"
     ]
    }
   ],
   "source": [
    "pginit = int(input('Escreva a pagina inicial da divisão. '))\n",
    "pgfim = int(input('Escreva a pagina final da divisão. '))\n",
    "\n",
    "file2pages = {\n",
    "    0: [pginit, pgfim]\n",
    "    \n",
    "}\n",
    "\n",
    "print(file2pages)\n",
    "\n"
   ]
  },
  {
   "cell_type": "code",
   "execution_count": null,
   "metadata": {},
   "outputs": [],
   "source": [
    "\n",
    "''' while True:\n",
    "    pginit = int(input('Escreva a pagina inicial da divisão. '))\n",
    "    pgfim = int(input('Escreva a pagina final da divisão. '))\n",
    "    \n",
    "    if pginit != 0:\n",
    "        for i in range(5):\n",
    "            file2pages[i] = {\n",
    "                i: [pginit, pgfim] \n",
    "            }\n",
    "        print(file2pages, type(file2pages))\n",
    "    else: pginit or pgfim == 0\n",
    "    break '''\n",
    "  \n",
    "\n",
    "for i in range(5):\n",
    "    while pginit != 0:\n",
    "        pginit = int(input('Escreva a pagina inicial da divisão. '))\n",
    "        pgfim = int(input('Escreva a pagina final da divisão. '))\n",
    "        file2pages[i] = {\n",
    "                i: [pginit, pgfim] \n",
    "            }\n",
    "    else: break\n",
    "print(file2pages, type(file2pages))\n",
    "        "
   ]
  },
  {
   "cell_type": "code",
   "execution_count": null,
   "metadata": {},
   "outputs": [
    {
     "name": "stdout",
     "output_type": "stream",
     "text": [
      "{1: {1: [3, 5]}} <class 'dict'>\n",
      "{1: {1: [3, 5]}, 2: {2: [6, 7]}} <class 'dict'>\n",
      "{1: {1: [3, 5]}, 2: {2: [6, 7]}, 3: {3: [3, 7]}} <class 'dict'>\n",
      "{1: {1: [3, 5]}, 2: {2: [6, 7]}, 3: {3: [3, 7]}, 4: {4: [4, 7]}} <class 'dict'>\n",
      "{1: {1: [3, 5]}, 2: {2: [6, 7]}, 3: {3: [3, 7]}, 4: {4: [4, 7]}, 5: {5: [0, 0]}} <class 'dict'>\n"
     ]
    }
   ],
   "source": [
    "#FUNCIONANDO\n",
    "pginit = 10000\n",
    "file2pages = {}\n",
    "\n",
    "for i in range(1,5):\n",
    "    while pginit != 0:\n",
    "        pginit = int(input('Digite a página inicial da divisão. Tecle Zero par a sair '))\n",
    "        pgfim = int(input('Digite a página final da divisão. Tecle Zero par a sair '))\n",
    "        file2pages[i] = {\n",
    "                i: [pginit, pgfim] \n",
    "            }\n",
    "        i=i+1\n",
    "        print(file2pages, type(file2pages))\n",
    "    else: break\n",
    "\n",
    "    "
   ]
  },
  {
   "cell_type": "code",
   "execution_count": null,
   "metadata": {},
   "outputs": [
    {
     "name": "stdout",
     "output_type": "stream",
     "text": [
      "{1: [3, 6]} <class 'dict'>\n",
      "{2: [7, 8]} <class 'dict'>\n",
      "{3: [7, 9]} <class 'dict'>\n",
      "{4: [99, 75]} <class 'dict'>\n",
      "{5: [0, 0]} <class 'dict'>\n"
     ]
    }
   ],
   "source": [
    "#FUNCIONANDO 2\n",
    "pginit = 10000\n",
    "file2pages = {}\n",
    "\n",
    "for i in range(1,5):\n",
    "    while pginit != 0:\n",
    "        pginit = int(input('Digite a página inicial da divisão. Tecle Zero par a sair '))\n",
    "        pgfim = int(input('Digite a página final da divisão. Tecle Zero par a sair '))\n",
    "        file2pages = {\n",
    "                i: [pginit, pgfim]\n",
    "            }\n",
    "        i=i+1\n",
    "        print(file2pages, type(file2pages))\n",
    "    else: break"
   ]
  },
  {
   "cell_type": "code",
   "execution_count": 15,
   "metadata": {},
   "outputs": [
    {
     "name": "stdout",
     "output_type": "stream",
     "text": [
      "{1: [3, 6]} <class 'dict'>\n",
      "{1: [3, 6], 2: [12, 16]} <class 'dict'>\n",
      "{1: [3, 6], 2: [12, 16], 3: [23, 26]} <class 'dict'>\n",
      "{1: [3, 6], 2: [12, 16], 3: [23, 26], 4: [34, 37]} <class 'dict'>\n",
      "{1: [3, 6], 2: [12, 16], 3: [23, 26], 4: [34, 37], 5: [56, 67]} <class 'dict'>\n",
      "{1: [3, 6], 2: [12, 16], 3: [23, 26], 4: [34, 37], 5: [56, 67], 6: [67, 78]} <class 'dict'>\n",
      "{1: [3, 6], 2: [12, 16], 3: [23, 26], 4: [34, 37], 5: [56, 67], 6: [67, 78], 7: [78, 89]} <class 'dict'>\n",
      "{1: [3, 6], 2: [12, 16], 3: [23, 26], 4: [34, 37], 5: [56, 67], 6: [67, 78], 7: [78, 89], 8: [0, 0]} <class 'dict'>\n",
      "{1: [3, 6], 2: [12, 16], 3: [23, 26], 4: [34, 37], 5: [56, 67], 6: [67, 78], 7: [78, 89], 8: [0, 0]}  é um dicionario\n"
     ]
    }
   ],
   "source": [
    "#FUNCIONANDO TOTAL 3\n",
    "pginit = 10000\n",
    "file2pages = {}\n",
    "\n",
    "for i in range(1,5):\n",
    "    while pginit != 0:\n",
    "        pginit = int(input('Digite a página inicial da divisão. Tecle Zero par a sair '))\n",
    "        pgfim = int(input('Digite a página final da divisão. Tecle Zero par a sair '))\n",
    "        file2pages[i] = [pginit, pgfim]\n",
    "        i=i+1\n",
    "        print(file2pages, type(file2pages))\n",
    "    else: break\n",
    "print (file2pages, \" é um dicionario\")"
   ]
  },
  {
   "cell_type": "code",
   "execution_count": null,
   "metadata": {},
   "outputs": [],
   "source": [
    "file2pages = {\n",
    "    0: [0, 9], # 1st splitted PDF file will contain the pages from 0 to 9 (9 is not included)\n",
    "    1: [9, 11], # 2nd splitted PDF file will contain the pages from 9 (9 is included) to 11\n",
    "    2: [11, 100], # 3rd splitted PDF file will contain the pages from 11 until the end or until the 100th page (if exists)\n",
    "}"
   ]
  }
 ],
 "metadata": {
  "kernelspec": {
   "display_name": "Python 3.10.4 64-bit",
   "language": "python",
   "name": "python3"
  },
  "language_info": {
   "codemirror_mode": {
    "name": "ipython",
    "version": 3
   },
   "file_extension": ".py",
   "mimetype": "text/x-python",
   "name": "python",
   "nbconvert_exporter": "python",
   "pygments_lexer": "ipython3",
   "version": "3.10.4"
  },
  "orig_nbformat": 4,
  "vscode": {
   "interpreter": {
    "hash": "26de051ba29f2982a8de78e945f0abaf191376122a1563185a90213a26c5da77"
   }
  }
 },
 "nbformat": 4,
 "nbformat_minor": 2
}
