{
 "cells": [
  {
   "cell_type": "code",
   "execution_count": 1,
   "metadata": {},
   "outputs": [
    {
     "name": "stdout",
     "output_type": "stream",
     "text": [
      "{0: [1, 2]}\n"
     ]
    }
   ],
   "source": [
    "pginit = int(input('Escreva a pagina inicial da divisão. '))\n",
    "pgfim = int(input('Escreva a pagina final da divisão. '))\n",
    "\n",
    "file2pages = {\n",
    "    0: [pginit, pgfim]\n",
    "    \n",
    "}\n",
    "\n",
    "print(file2pages)\n",
    "\n"
   ]
  },
  {
   "cell_type": "code",
   "execution_count": 29,
   "metadata": {},
   "outputs": [
    {
     "ename": "SyntaxError",
     "evalue": "invalid syntax (2345118530.py, line 7)",
     "output_type": "error",
     "traceback": [
      "\u001b[1;36m  Input \u001b[1;32mIn [29]\u001b[1;36m\u001b[0m\n\u001b[1;33m    file2pages[i]{\u001b[0m\n\u001b[1;37m                 ^\u001b[0m\n\u001b[1;31mSyntaxError\u001b[0m\u001b[1;31m:\u001b[0m invalid syntax\n"
     ]
    }
   ],
   "source": [
    "\n",
    "while True:\n",
    "    pginit = int(input('Escreva a pagina inicial da divisão. '))\n",
    "    pgfim = int(input('Escreva a pagina final da divisão. '))\n",
    "    \n",
    "    if pginit != 0:\n",
    "        for i in range(5):\n",
    "            file2pages[i]{\n",
    "                [pginit, pgfim] \n",
    "            }\n",
    "        print(file2pages, type(file2pages))\n",
    "    else: pginit or pgfim == 0\n",
    "    break\n",
    "  \n",
    "#for i in range(5): \n",
    "#    file2pages[i]\n"
   ]
  },
  {
   "cell_type": "code",
   "execution_count": 27,
   "metadata": {},
   "outputs": [
    {
     "name": "stdout",
     "output_type": "stream",
     "text": [
      "<class 'dict'>\n"
     ]
    }
   ],
   "source": [
    "file2pages = {\n",
    "    0: [0, 9], # 1st splitted PDF file will contain the pages from 0 to 9 (9 is not included)\n",
    "    1: [9, 11], # 2nd splitted PDF file will contain the pages from 9 (9 is included) to 11\n",
    "    2: [11, 100], # 3rd splitted PDF file will contain the pages from 11 until the end or until the 100th page (if exists)\n",
    "}\n",
    "print(type(file2pages))"
   ]
  }
 ],
 "metadata": {
  "kernelspec": {
   "display_name": "Python 3.10.4 64-bit",
   "language": "python",
   "name": "python3"
  },
  "language_info": {
   "codemirror_mode": {
    "name": "ipython",
    "version": 3
   },
   "file_extension": ".py",
   "mimetype": "text/x-python",
   "name": "python",
   "nbconvert_exporter": "python",
   "pygments_lexer": "ipython3",
   "version": "3.10.4"
  },
  "orig_nbformat": 4,
  "vscode": {
   "interpreter": {
    "hash": "26de051ba29f2982a8de78e945f0abaf191376122a1563185a90213a26c5da77"
   }
  }
 },
 "nbformat": 4,
 "nbformat_minor": 2
}
